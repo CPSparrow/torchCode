{
 "cells": [
  {
   "cell_type": "code",
   "id": "initial_id",
   "metadata": {
    "collapsed": true,
    "ExecuteTime": {
     "end_time": "2024-10-15T12:06:24.643039Z",
     "start_time": "2024-10-15T12:06:24.630797Z"
    }
   },
   "source": [
    "with open(\"转天.txt\", 'r') as r:\n",
    "\tcnt, no = 0, 0\n",
    "\tfor line in r:\n",
    "\t\tcnt += 1\n",
    "\t\tif cnt == 1:\n",
    "\t\t\tprint(repr(line))\n",
    "\t\tif line == \"\\n\":\n",
    "\t\t\tno += 1\n",
    "print(\"total: {},empty: {}\\nrate:{:.2f}\".format(cnt, no, (no * 100.0 / cnt)))"
   ],
   "outputs": [
    {
     "name": "stdout",
     "output_type": "stream",
     "text": [
      "'1.转生王女是破天荒的王女\\n'\n",
      "total: 17440,empty: 4691\n",
      "rate:26.90\n"
     ]
    }
   ],
   "execution_count": 45
  },
  {
   "metadata": {
    "ExecuteTime": {
     "end_time": "2024-10-15T12:06:24.674136Z",
     "start_time": "2024-10-15T12:06:24.660004Z"
    }
   },
   "cell_type": "code",
   "source": [
    "line = \"  abc  \".strip()\n",
    "print(repr(line))"
   ],
   "id": "fc04d5e046596944",
   "outputs": [
    {
     "name": "stdout",
     "output_type": "stream",
     "text": [
      "'abc'\n"
     ]
    }
   ],
   "execution_count": 46
  },
  {
   "metadata": {
    "ExecuteTime": {
     "end_time": "2024-10-15T12:06:24.717129Z",
     "start_time": "2024-10-15T12:06:24.713348Z"
    }
   },
   "cell_type": "code",
   "source": [
    "# with open(\"转天.txt\", 'r') as txt:\n",
    "# \twith open(\"raw.txt\", 'w') as output:\n",
    "# \t\tfor line in txt:\n",
    "# \t\t\tif not line == \"\\n\":\n",
    "# \t\t\t\toutput.write(line.strip() + \"\\n\")"
   ],
   "id": "2b8455fcaaa07a3d",
   "outputs": [],
   "execution_count": 47
  },
  {
   "metadata": {
    "ExecuteTime": {
     "end_time": "2024-10-15T12:06:24.777313Z",
     "start_time": "2024-10-15T12:06:24.770775Z"
    }
   },
   "cell_type": "code",
   "source": [
    "from jieba import cut\n",
    "import matplotlib.pyplot as plt\n",
    "from random import randint\n",
    "\n",
    "line = \"聽說安妮絲菲亞搶走床單是為了進行在天空中飛行的實驗。用風精靈石風製造的風把床單吹起來、用那股力量讓自己滑翔。\"\n",
    "print(repr(list(cut(line, cut_all=True))))\n",
    "print(repr(list(cut(line, cut_all=False))))\n"
   ],
   "id": "7c26c48d8bacbae0",
   "outputs": [
    {
     "name": "stdout",
     "output_type": "stream",
     "text": [
      "['聽', '說', '安妮', '絲', '菲', '亞', '搶', '走', '床', '單', '是', '為', '了', '進', '行', '在', '天空', '空中', '飛', '行', '的', '實', '驗', '。', '用', '風', '精', '靈', '石', '風', '製', '造', '的', '風', '把', '床', '單', '吹起', '來', '、', '用', '那', '股', '力量', '讓', '自己', '滑翔', '。']\n",
      "['聽', '說', '安妮', '絲菲亞', '搶', '走', '床單', '是', '為', '了', '進行', '在', '天空', '中飛行', '的', '實驗', '。', '用風', '精靈石', '風', '製', '造', '的', '風', '把', '床', '單', '吹', '起', '來', '、', '用', '那股', '力量', '讓', '自己', '滑翔', '。']\n"
     ]
    }
   ],
   "execution_count": 48
  },
  {
   "metadata": {
    "ExecuteTime": {
     "end_time": "2024-10-15T12:06:26.816901Z",
     "start_time": "2024-10-15T12:06:24.835373Z"
    }
   },
   "cell_type": "code",
   "source": [
    "with open(\"raw.txt\", 'r') as file:\n",
    "\tnum_line, num_token = 0, 0\n",
    "\ttokens = []\n",
    "\tfor i in file:\n",
    "\t\tnum_line += 1\n",
    "\t\ttokens.append(len(list(cut(line, cut_all=False))))\n",
    "\tnum_token = sum(tokens)\n",
    "print(num_line)\n",
    "print(num_token)\n",
    "# line 12749\n",
    "# tokens 484462"
   ],
   "id": "97f777da219b14b5",
   "outputs": [
    {
     "name": "stdout",
     "output_type": "stream",
     "text": [
      "12749\n",
      "484462\n"
     ]
    }
   ],
   "execution_count": 49
  },
  {
   "metadata": {
    "ExecuteTime": {
     "end_time": "2024-10-15T12:06:26.907678Z",
     "start_time": "2024-10-15T12:06:26.904069Z"
    }
   },
   "cell_type": "code",
   "source": "12749 * 0.7\n",
   "id": "ee40e1e901dd0805",
   "outputs": [
    {
     "data": {
      "text/plain": [
       "8924.3"
      ]
     },
     "execution_count": 50,
     "metadata": {},
     "output_type": "execute_result"
    }
   ],
   "execution_count": 50
  },
  {
   "metadata": {
    "ExecuteTime": {
     "end_time": "2024-10-15T12:22:48.247226Z",
     "start_time": "2024-10-15T12:22:48.229547Z"
    }
   },
   "cell_type": "code",
   "source": [
    "src = []\n",
    "with open(\"raw.txt\", 'r') as src_file:\n",
    "\tfor line in src_file:\n",
    "\t\tsrc.append(line)\n",
    "train = [line for i, line in enumerate(src) if i % 10 < 7]\n",
    "valid = [line for i, line in enumerate(src) if 7 <= i % 10 < 9]\n",
    "test = [line for i, line in enumerate(src) if i % 10 == 9]\n",
    "files = [\"train.txt\", \"valid.txt\", \"test.txt\"]\n",
    "\n",
    "# shuffle = False\n",
    "# for src, file in zip((train, valid, test), files):\n",
    "# \twith open(file, 'w') as tgt:\n",
    "# \t\tfor line in src:\n",
    "# \t\t\ttgt.write(line)"
   ],
   "id": "f3a86a3a54d9320b",
   "outputs": [],
   "execution_count": 61
  },
  {
   "metadata": {
    "ExecuteTime": {
     "end_time": "2024-10-16T12:57:27.428827Z",
     "start_time": "2024-10-16T12:57:27.423274Z"
    }
   },
   "cell_type": "code",
   "source": [
    "# with open(\"test.txt\", 'r') as src:\n",
    "# \twith open(\"tgt_test.txt\", 'w') as tgt:\n",
    "# \t\ttemp = \"\"\n",
    "# \t\tfor line in src:\n",
    "# \t\t\ttemp = temp + line[:-1]\n",
    "# \t\t\tif len(temp) >= 30:\n",
    "# \t\t\t\ttgt.write(temp + \"\\n\")\n",
    "# \t\t\t\ttemp = \"\""
   ],
   "id": "62945b940adec089",
   "outputs": [],
   "execution_count": 2
  },
  {
   "metadata": {
    "ExecuteTime": {
     "end_time": "2024-10-16T13:05:01.639040Z",
     "start_time": "2024-10-16T13:05:01.635154Z"
    }
   },
   "cell_type": "code",
   "source": [
    "def file_info(path):\n",
    "\twith open(path, 'r') as src:\n",
    "\t\tnum_lines = []\n",
    "\t\tfor idx, line in enumerate(src):\n",
    "\t\t\tnum_lines.append(len(line))\n",
    "\t\t\tif len(line) >= 2000:\n",
    "\t\t\t\tprint(idx, \",\", len(line))\n",
    "\tavg = sum(num_lines) / len(num_lines)\n",
    "\tprint(\"checking file: {}\\nmin: {}, max: {}\\navg: {:.2f}, std: {:.2f}\\n\".format(\n",
    "\t\tpath, min(num_lines), max(num_lines), avg,\n",
    "\t\tsum([(avg - line) ** 2 for line in num_lines]) ** 0.5\n",
    "\t))\n",
    "\n",
    "\n",
    "file_info(\"tgt_test.txt\")"
   ],
   "id": "4be473336ab5f058",
   "outputs": [
    {
     "name": "stdout",
     "output_type": "stream",
     "text": [
      "189 , 5534\n",
      "checking file: tgt_test.txt\n",
      "min: 31, max: 5534\n",
      "avg: 65.52, std: 5509.86\n",
      "\n"
     ]
    }
   ],
   "execution_count": 8
  },
  {
   "metadata": {
    "ExecuteTime": {
     "end_time": "2024-10-16T13:58:59.601770Z",
     "start_time": "2024-10-16T13:58:59.593086Z"
    }
   },
   "cell_type": "code",
   "source": [
    "from jieba import cut\n",
    "\n",
    "batched_src = []\n",
    "with open(\"raw.txt\", 'r') as src:\n",
    "\tstore = []\n",
    "\tfor _ in range(10):\n",
    "\t\tline = src.readline()\n",
    "\t\tstore.extend([i for i in cut(line, cut_all=False) if i != '\\n'])\n",
    "\t\tbatch_size = 80\n",
    "\t\twhile len(store) >= batch_size:\n",
    "\t\t\tbatched_src.append(store[0:batch_size])\n",
    "\t\t\tstore = store[batch_size:]\n",
    "for batch in batched_src:\n",
    "\tprint(\"\".join(batch), \"\\n\")\n",
    "print(repr(store))\n"
   ],
   "id": "5ecb3d968c2919",
   "outputs": [
    {
     "name": "stdout",
     "output_type": "stream",
     "text": [
      "1.转生王女是破天荒的王女我仅仅是喜欢“魔法”这一词语。因为能让人获得幸福，能使人展露笑容。我爱魔法这一存在本身。正因为永远都传达不到，实现不了。如果能够实现一个愿望的话，我一定是想要成为魔法使吧。突然间想起了“前世”的事。我的名字是安妮丝 \n",
      "\n",
      "菲亚·文·帕雷迪亚。帕雷迪亚王国的第一王女。那是年方五岁，迷迷糊糊地仰望着天空时的事。有魔法的话就能飞翔于空中了。不知为何想到了这样的事，那么，为什么会这么想呢？涌起这一疑问的同时，我就像是回想起忘却了的记忆一般，取回了前世的记忆。就像是拼图一块块拼 \n",
      "\n",
      "起来的感觉。就如同发现自己这一存在所欠缺之物一般，以这天为分界线，安妮丝菲亚·文·帕雷迪亚迎来了人生的转机。前世的记忆，在作为安妮丝菲亚的我看来乃是非常不可思议的事。飞翔在空中的飞机，铺满沥青的道路，在那条道路上行驶的车辆，这些理所当然的文明产物一个接一个地在脑海 \n",
      "\n",
      "['里', '闪过', '。']\n"
     ]
    }
   ],
   "execution_count": 37
  }
 ],
 "metadata": {
  "kernelspec": {
   "display_name": "Python 3",
   "language": "python",
   "name": "python3"
  },
  "language_info": {
   "codemirror_mode": {
    "name": "ipython",
    "version": 2
   },
   "file_extension": ".py",
   "mimetype": "text/x-python",
   "name": "python",
   "nbconvert_exporter": "python",
   "pygments_lexer": "ipython2",
   "version": "2.7.6"
  }
 },
 "nbformat": 4,
 "nbformat_minor": 5
}
