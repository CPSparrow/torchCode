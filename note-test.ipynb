{
 "cells": [
  {
   "cell_type": "code",
   "id": "initial_id",
   "metadata": {
    "collapsed": true,
    "ExecuteTime": {
     "end_time": "2024-09-15T14:02:31.273977Z",
     "start_time": "2024-09-15T14:02:31.266974Z"
    }
   },
   "source": [
    "import torch\n",
    "\n",
    "x = torch.randn(4, 8)\n",
    "for i in x:\n",
    "    print(\"max = {0}, min = {1}\".format(round(float(max(i)), 4), round(float(min(i)), 4)))"
   ],
   "outputs": [
    {
     "name": "stdout",
     "output_type": "stream",
     "text": [
      "max = 0.9964, min = -1.1298\n",
      "max = 1.4992, min = -2.1746\n",
      "max = -0.0549, min = -2.611\n",
      "max = 2.6825, min = -1.5811\n"
     ]
    }
   ],
   "execution_count": 13
  },
  {
   "metadata": {},
   "cell_type": "code",
   "outputs": [],
   "execution_count": null,
   "source": "",
   "id": "f66eb5aea6c8fe1b"
  }
 ],
 "metadata": {
  "kernelspec": {
   "display_name": "Python 3",
   "language": "python",
   "name": "python3"
  },
  "language_info": {
   "codemirror_mode": {
    "name": "ipython",
    "version": 2
   },
   "file_extension": ".py",
   "mimetype": "text/x-python",
   "name": "python",
   "nbconvert_exporter": "python",
   "pygments_lexer": "ipython2",
   "version": "2.7.6"
  }
 },
 "nbformat": 4,
 "nbformat_minor": 5
}
