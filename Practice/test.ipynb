{
 "cells": [
  {
   "cell_type": "code",
   "id": "initial_id",
   "metadata": {
    "collapsed": true
   },
   "source": [
    "from transformers import AutoTokenizer, AutoModelForCausalLM\n",
    "\n",
    "if __name__ == \"__main__\":\n",
    "\tmodel_name = \"gpt2\"\n",
    "\ttokenizer = AutoTokenizer.from_pretrained(model_name)\n",
    "\tmodel = AutoModelForCausalLM.from_pretrained(model_name)\n",
    "\t\n",
    "\tinput_text = \"Once upon a time,there was a kid\"\n",
    "\t\n",
    "\tinputs = tokenizer(input_text, return_tensors=\"pt\")\n",
    "\toutputs = model.generate(**inputs, max_length=80, do_sample=True, top_p=0.95, temperature=0.7)\n",
    "\tgenerated_text = tokenizer.decode(outputs[0], skip_special_tokens=True)\n",
    "\t\n",
    "\tprint(generated_text)\n"
   ],
   "outputs": [],
   "execution_count": null
  }
 ],
 "metadata": {
  "kernelspec": {
   "display_name": "Python 3",
   "language": "python",
   "name": "python3"
  },
  "language_info": {
   "codemirror_mode": {
    "name": "ipython",
    "version": 2
   },
   "file_extension": ".py",
   "mimetype": "text/x-python",
   "name": "python",
   "nbconvert_exporter": "python",
   "pygments_lexer": "ipython2",
   "version": "2.7.6"
  }
 },
 "nbformat": 4,
 "nbformat_minor": 5
}
