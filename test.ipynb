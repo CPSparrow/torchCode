{
 "cells": [
  {
   "metadata": {
    "ExecuteTime": {
     "end_time": "2024-10-12T14:44:10.394391Z",
     "start_time": "2024-10-12T14:44:10.391342Z"
    }
   },
   "cell_type": "code",
   "source": [
    "import math\n",
    "import time\n",
    "import copy\n",
    "import torch\n",
    "import torch.nn as nn\n",
    "import torch.nn.functional as F\n",
    "import torch.nn.modules\n",
    "from torch.nn.init import xavier_uniform_, constant_\n"
   ],
   "id": "ef3c3ea300b90e22",
   "outputs": [],
   "execution_count": 47
  },
  {
   "metadata": {
    "ExecuteTime": {
     "end_time": "2024-10-12T14:44:10.447304Z",
     "start_time": "2024-10-12T14:44:10.443971Z"
    }
   },
   "cell_type": "code",
   "source": "# model = nn.Transformer(batch_first=True)",
   "id": "8493d13bb071c60f",
   "outputs": [],
   "execution_count": 48
  },
  {
   "metadata": {},
   "cell_type": "raw",
   "source": "",
   "id": "f07632a5c62c37da"
  },
  {
   "metadata": {
    "ExecuteTime": {
     "end_time": "2024-10-12T14:44:10.498252Z",
     "start_time": "2024-10-12T14:44:10.493229Z"
    }
   },
   "cell_type": "code",
   "source": [
    "x = torch.randn(2, 3)\n",
    "print(x)\n",
    "x = nn.ReLU()(x)\n",
    "print(x)"
   ],
   "id": "2db312d98b7319a3",
   "outputs": [
    {
     "name": "stdout",
     "output_type": "stream",
     "text": [
      "tensor([[-2.2224, -0.8455, -1.2331],\n",
      "        [ 1.4188, -0.8842,  1.0033]])\n",
      "tensor([[0.0000, 0.0000, 0.0000],\n",
      "        [1.4188, 0.0000, 1.0033]])\n"
     ]
    }
   ],
   "execution_count": 49
  },
  {
   "metadata": {
    "ExecuteTime": {
     "end_time": "2024-10-12T14:44:10.609442Z",
     "start_time": "2024-10-12T14:44:10.606394Z"
    }
   },
   "cell_type": "code",
   "source": "",
   "id": "e69e99c6b91a4232",
   "outputs": [],
   "execution_count": null
  }
 ],
 "metadata": {
  "kernelspec": {
   "display_name": "Python 3",
   "language": "python",
   "name": "python3"
  },
  "language_info": {
   "codemirror_mode": {
    "name": "ipython",
    "version": 2
   },
   "file_extension": ".py",
   "mimetype": "text/x-python",
   "name": "python",
   "nbconvert_exporter": "python",
   "pygments_lexer": "ipython2",
   "version": "2.7.6"
  }
 },
 "nbformat": 4,
 "nbformat_minor": 5
}
