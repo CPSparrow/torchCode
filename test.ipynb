{
 "cells": [
  {
   "metadata": {
    "ExecuteTime": {
     "end_time": "2024-09-22T04:53:53.765220Z",
     "start_time": "2024-09-22T04:53:53.758496Z"
    }
   },
   "cell_type": "code",
   "source": [
    "import torch\n",
    "import torch.nn as nn\n",
    "\n",
    "emb1 = nn.Embedding(8, 8)\n",
    "src = torch.Tensor([1, 1, 4]).to(torch.int32)\n",
    "print(src)\n",
    "src_emb1 = emb1(src)\n",
    "print(src_emb1.shape)\n",
    "print(src_emb1)\n",
    "src_emb_a = emb1(src)\n",
    "print(src_emb_a)"
   ],
   "id": "ac2e2a5ce96e0142",
   "outputs": [
    {
     "name": "stdout",
     "output_type": "stream",
     "text": [
      "tensor([1, 1, 4], dtype=torch.int32)\n",
      "torch.Size([3, 8])\n",
      "tensor([[ 1.2037,  1.1004,  0.6535,  0.2510, -0.4538,  0.8450, -0.6161,  0.4923],\n",
      "        [ 1.2037,  1.1004,  0.6535,  0.2510, -0.4538,  0.8450, -0.6161,  0.4923],\n",
      "        [-1.6123,  0.4479, -0.0403, -1.0696, -1.1404,  0.5549, -0.0828, -0.5015]],\n",
      "       grad_fn=<EmbeddingBackward0>)\n",
      "tensor([[ 1.2037,  1.1004,  0.6535,  0.2510, -0.4538,  0.8450, -0.6161,  0.4923],\n",
      "        [ 1.2037,  1.1004,  0.6535,  0.2510, -0.4538,  0.8450, -0.6161,  0.4923],\n",
      "        [-1.6123,  0.4479, -0.0403, -1.0696, -1.1404,  0.5549, -0.0828, -0.5015]],\n",
      "       grad_fn=<EmbeddingBackward0>)\n"
     ]
    }
   ],
   "execution_count": 7
  },
  {
   "metadata": {
    "ExecuteTime": {
     "end_time": "2024-09-22T04:54:20.623190Z",
     "start_time": "2024-09-22T04:54:20.616891Z"
    }
   },
   "cell_type": "code",
   "source": [
    "emb2 = nn.Embedding(8, 8)\n",
    "src_emb2 = emb2(src)\n",
    "print(src_emb2.shape)\n",
    "print(src_emb2)\n",
    "src_emb_b = emb2(src)\n",
    "print(src_emb_b)"
   ],
   "id": "88fbb8ca5556340b",
   "outputs": [
    {
     "name": "stdout",
     "output_type": "stream",
     "text": [
      "torch.Size([3, 8])\n",
      "tensor([[-1.2133, -0.2942, -0.1236, -0.4316, -0.7831, -0.6311, -0.7604,  0.6508],\n",
      "        [-1.2133, -0.2942, -0.1236, -0.4316, -0.7831, -0.6311, -0.7604,  0.6508],\n",
      "        [-0.1822,  0.1492,  0.4124,  0.4931,  0.2398, -0.9877, -2.0619,  0.7228]],\n",
      "       grad_fn=<EmbeddingBackward0>)\n",
      "tensor([[-1.2133, -0.2942, -0.1236, -0.4316, -0.7831, -0.6311, -0.7604,  0.6508],\n",
      "        [-1.2133, -0.2942, -0.1236, -0.4316, -0.7831, -0.6311, -0.7604,  0.6508],\n",
      "        [-0.1822,  0.1492,  0.4124,  0.4931,  0.2398, -0.9877, -2.0619,  0.7228]],\n",
      "       grad_fn=<EmbeddingBackward0>)\n"
     ]
    }
   ],
   "execution_count": 9
  }
 ],
 "metadata": {
  "kernelspec": {
   "display_name": "Python 3 (ipykernel)",
   "language": "python",
   "name": "python3"
  },
  "language_info": {
   "codemirror_mode": {
    "name": "ipython",
    "version": 3
   },
   "file_extension": ".py",
   "mimetype": "text/x-python",
   "name": "python",
   "nbconvert_exporter": "python",
   "pygments_lexer": "ipython3",
   "version": "3.10.14"
  }
 },
 "nbformat": 4,
 "nbformat_minor": 5
}
