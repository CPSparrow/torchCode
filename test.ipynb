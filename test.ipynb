{
 "cells": [
  {
   "metadata": {
    "ExecuteTime": {
     "end_time": "2024-09-22T11:38:21.544339Z",
     "start_time": "2024-09-22T11:38:21.536854Z"
    }
   },
   "cell_type": "code",
   "source": [
    "import math\n",
    "import torch\n",
    "import numpy as np\n",
    "import torch.nn as nn\n",
    "\n",
    "\n",
    "class PositionalEncoding(nn.Module):\n",
    "    def __init__(self, d_model, dropout=0.1, max_len=5000):\n",
    "        super(PositionalEncoding, self).__init__()\n",
    "        self.dropout = nn.Dropout(p=dropout)\n",
    "\n",
    "        pe = torch.zeros(max_len, d_model)\n",
    "        position = torch.arange(0, max_len, dtype=torch.float).unsqueeze(1)\n",
    "        div_term = torch.exp(torch.arange(0, d_model, 2).float() * (-math.log(10000.0) / d_model))\n",
    "        pe[:, 0::2] = torch.sin(position * div_term)\n",
    "        pe[:, 1::2] = torch.cos(position * div_term)\n",
    "        # print(\"before: \\n{0}\".format(pe))\n",
    "        pe = pe.unsqueeze(0).transpose(0, 1)\n",
    "        # print(\"after: \\n{0}\".format(pe))\n",
    "        self.register_buffer('pe', pe)\n",
    "\n",
    "    def forward(self, x, is_drop_out=True):\n",
    "        \"\"\"\n",
    "        x: [seq_len, batch_size, d_model]\n",
    "        \"\"\"\n",
    "        print(x, '\\n')\n",
    "        x = x + self.pe[:x.size(0), :]\n",
    "        print(x, '\\n')\n",
    "        # print(self.dropout(x))\n",
    "\n",
    "\n",
    "d_model = 2\n",
    "max_len = 8\n",
    "x = torch.ones(8, 1, d_model)\n",
    "pe_class = PositionalEncoding(d_model, dropout=0.1, max_len=max_len)\n",
    "pe_class.forward(x, False)"
   ],
   "id": "ac2e2a5ce96e0142",
   "outputs": [
    {
     "name": "stdout",
     "output_type": "stream",
     "text": [
      "tensor([[[1., 1.]],\n",
      "\n",
      "        [[1., 1.]],\n",
      "\n",
      "        [[1., 1.]],\n",
      "\n",
      "        [[1., 1.]],\n",
      "\n",
      "        [[1., 1.]],\n",
      "\n",
      "        [[1., 1.]],\n",
      "\n",
      "        [[1., 1.]],\n",
      "\n",
      "        [[1., 1.]]]) \n",
      "\n",
      "tensor([[[1.0000, 2.0000]],\n",
      "\n",
      "        [[1.8415, 1.5403]],\n",
      "\n",
      "        [[1.9093, 0.5839]],\n",
      "\n",
      "        [[1.1411, 0.0100]],\n",
      "\n",
      "        [[0.2432, 0.3464]],\n",
      "\n",
      "        [[0.0411, 1.2837]],\n",
      "\n",
      "        [[0.7206, 1.9602]],\n",
      "\n",
      "        [[1.6570, 1.7539]]]) \n",
      "\n"
     ]
    }
   ],
   "execution_count": 14
  }
 ],
 "metadata": {
  "kernelspec": {
   "display_name": "Python 3 (ipykernel)",
   "language": "python",
   "name": "python3"
  },
  "language_info": {
   "codemirror_mode": {
    "name": "ipython",
    "version": 3
   },
   "file_extension": ".py",
   "mimetype": "text/x-python",
   "name": "python",
   "nbconvert_exporter": "python",
   "pygments_lexer": "ipython3",
   "version": "3.10.14"
  }
 },
 "nbformat": 4,
 "nbformat_minor": 5
}
