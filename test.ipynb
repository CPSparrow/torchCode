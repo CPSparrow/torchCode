{
 "cells": [
  {
   "metadata": {
    "ExecuteTime": {
     "end_time": "2024-09-24T11:17:33.895232Z",
     "start_time": "2024-09-24T11:17:33.888671Z"
    }
   },
   "cell_type": "code",
   "source": [
    "def f(ab, len):\n",
    "    ab += 1\n",
    "    len += 2\n",
    "\n",
    "\n",
    "x, y = 1, 2\n",
    "f(x, y)\n",
    "print(y)"
   ],
   "id": "ef3c3ea300b90e22",
   "outputs": [
    {
     "name": "stdout",
     "output_type": "stream",
     "text": [
      "2\n"
     ]
    }
   ],
   "execution_count": 2
  },
  {
   "metadata": {},
   "cell_type": "raw",
   "source": "",
   "id": "f07632a5c62c37da"
  }
 ],
 "metadata": {
  "kernelspec": {
   "display_name": "Python 3",
   "language": "python",
   "name": "python3"
  },
  "language_info": {
   "codemirror_mode": {
    "name": "ipython",
    "version": 2
   },
   "file_extension": ".py",
   "mimetype": "text/x-python",
   "name": "python",
   "nbconvert_exporter": "python",
   "pygments_lexer": "ipython2",
   "version": "2.7.6"
  }
 },
 "nbformat": 4,
 "nbformat_minor": 5
}
