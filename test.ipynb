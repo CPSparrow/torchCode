{
 "cells": [
  {
   "metadata": {
    "ExecuteTime": {
     "end_time": "2024-09-23T12:39:32.029555Z",
     "start_time": "2024-09-23T12:39:31.965171Z"
    }
   },
   "cell_type": "code",
   "source": [
    "import jieba\n",
    "import matplotlib.pyplot as plt\n",
    "\n",
    "en_name = './corpus/train/EN.txt'\n",
    "cn_name = './corpus/train/CN.txt'\n",
    "\n",
    "\n",
    "def file2tokens(file_name):\n",
    "    r\"\"\"\n",
    "    :param file_name: \n",
    "    :return : [ len(sentences), [len_tolens)] ]\n",
    "    \"\"\"\n",
    "    with open(file_name, 'r') as file:\n",
    "        x = file.read()\n",
    "        x = x.split('\\n')\n",
    "        x = [list(jieba.cut(t)) for t in x]\n",
    "        x = [t for t in x if len(t) > 5]\n",
    "        return x\n",
    "\n",
    "\n",
    "x1 = file2tokens(en_name)\n",
    "x2 = file2tokens(cn_name)\n",
    "y1 = [len(i) for i in x1]\n",
    "y2 = [len(i) for i in x2]\n",
    "# y1.sort()\n",
    "# y2.sort()\n",
    "plt.bar([i for i in range(1, len(y1) + 1)], y1)\n",
    "plt.bar([i for i in range(1, len(y2) + 1)], y2)\n",
    "plt.show()\n",
    "print(max(y1), max(y2))\n",
    "# for i in x:\n",
    "#     print(repr(i))"
   ],
   "id": "ac2e2a5ce96e0142",
   "outputs": [
    {
     "data": {
      "text/plain": [
       "<Figure size 640x480 with 1 Axes>"
      ],
      "image/png": "[encoded data removed]"
     },
     "metadata": {},
     "output_type": "display_data"
    },
    {
     "name": "stdout",
     "output_type": "stream",
     "text": [
      "97 62\n"
     ]
    }
   ],
   "execution_count": 71
  }
 ],
 "metadata": {
  "kernelspec": {
   "display_name": "Python 3 (ipykernel)",
   "language": "python",
   "name": "python3"
  },
  "language_info": {
   "codemirror_mode": {
    "name": "ipython",
    "version": 3
   },
   "file_extension": ".py",
   "mimetype": "text/x-python",
   "name": "python",
   "nbconvert_exporter": "python",
   "pygments_lexer": "ipython3",
   "version": "3.10.14"
  }
 },
 "nbformat": 4,
 "nbformat_minor": 5
}
