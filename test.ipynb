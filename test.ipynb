{
 "cells": [
  {
   "cell_type": "raw",
   "id": "77a39f36-b079-4a7f-80ff-0c3ddc8165a3",
   "metadata": {},
   "source": [
    "## full code"
   ]
  },
  {
   "cell_type": "code",
   "id": "a94ebf65a7d51f76",
   "metadata": {
    "ExecuteTime": {
     "end_time": "2024-09-20T03:31:06.985265Z",
     "start_time": "2024-09-20T03:31:06.980518Z"
    }
   },
   "source": [
    "import math\n",
    "import torch\n",
    "import torch.nn as nn\n",
    "\n",
    "t = torch.Tensor([1, 2, 3, 4, 5]).to(torch.int32)\n",
    "print(t.squeeze())"
   ],
   "outputs": [
    {
     "name": "stdout",
     "output_type": "stream",
     "text": [
      "torch.Size([5])\n"
     ]
    }
   ],
   "execution_count": 11
  }
 ],
 "metadata": {
  "kernelspec": {
   "display_name": "Python 3 (ipykernel)",
   "language": "python",
   "name": "python3"
  },
  "language_info": {
   "codemirror_mode": {
    "name": "ipython",
    "version": 3
   },
   "file_extension": ".py",
   "mimetype": "text/x-python",
   "name": "python",
   "nbconvert_exporter": "python",
   "pygments_lexer": "ipython3",
   "version": "3.10.14"
  }
 },
 "nbformat": 4,
 "nbformat_minor": 5
}
